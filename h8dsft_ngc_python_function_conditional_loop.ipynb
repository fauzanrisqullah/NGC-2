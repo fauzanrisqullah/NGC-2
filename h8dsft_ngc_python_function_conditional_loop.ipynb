{
 "cells": [
  {
   "cell_type": "markdown",
   "metadata": {},
   "source": [
    "# Task 1 - Number of Word"
   ]
  },
  {
   "cell_type": "code",
   "execution_count": 8,
   "metadata": {},
   "outputs": [
    {
     "name": "stdout",
     "output_type": "stream",
     "text": [
      "Jumlah kata pada kalimat yang di-input adalah: 2\n"
     ]
    }
   ],
   "source": [
    "kalimat = input(\"Masukkan Kalimat: \")\n",
    "\n",
    "def numberOfWord(sentence):\n",
    "    '''Given an input of sentence, this function will count how many words existed in that sentence'''\n",
    "\n",
    "    wordList = sentence.split()\n",
    "    countWordList = len(wordList)\n",
    "\n",
    "    return countWordList\n",
    "\n",
    "print(\"Jumlah kata pada kalimat yang di-input adalah:\", numberOfWord(kalimat))"
   ]
  },
  {
   "cell_type": "markdown",
   "metadata": {},
   "source": [
    "# Task 2 - Find Multiple"
   ]
  },
  {
   "cell_type": "code",
   "execution_count": 15,
   "metadata": {},
   "outputs": [
    {
     "name": "stdout",
     "output_type": "stream",
     "text": [
      "Dalam range 1 sampai 70 , daftar angka yang merupakan hasil perkalian dengan 7 adalah: [7, 14, 21, 28, 35, 42, 49, 56, 63, 70]\n"
     ]
    }
   ],
   "source": [
    "angkaAwal = int(input(\"Masukkan angka awal: \"))\n",
    "angkaAkhir = int(input(\"Masukkan angka akhir: \"))\n",
    "angkaKali = int(input(\"Masukkan angka kali: \"))\n",
    "\n",
    "def findMultiples(start_range, end_range, multiple):\n",
    "    '''Given a start and end of a number range and a multiply number, \n",
    "    this function will check whether a number in that range can be divided by the multiplying number'''\n",
    "\n",
    "    numberList = []\n",
    "\n",
    "    for i in (range(start_range, end_range + 1)):\n",
    "        if i % multiple == 0:\n",
    "            numberList.append(i)\n",
    "\n",
    "    return numberList\n",
    "\n",
    "print(\"Dalam range\", angkaAwal, \"sampai\", angkaAkhir, \", daftar angka yang merupakan hasil perkalian dengan\", angkaKali, \"adalah:\", findMultiples(angkaAwal, angkaAkhir, angkaKali))"
   ]
  },
  {
   "cell_type": "markdown",
   "metadata": {},
   "source": [
    "# Task 3 - Grade Converter"
   ]
  },
  {
   "cell_type": "code",
   "execution_count": 9,
   "metadata": {},
   "outputs": [
    {
     "name": "stdout",
     "output_type": "stream",
     "text": [
      "{'Adam': 2.5, 'Faiz': 4}\n",
      "{'Albert': 'A', 'Dwi': 'B', 'Syahdan': 'D', 'Veronica': 'B'}\n"
     ]
    }
   ],
   "source": [
    "def gradeConverter(convert_to, **kwargs):\n",
    "    '''\n",
    "    This function will convert score into letter-based grading or into GPA\n",
    "    Argument 1 value(s): \"letter_grade\" | \"gpa\"\n",
    "    Argument 2 value(s): student_name = score\n",
    "    '''\n",
    "\n",
    "    if convert_to == \"letter_grade\":\n",
    "        for i, j in kwargs.items():\n",
    "            if j >= 85:\n",
    "                kwargs[i] = \"A\"\n",
    "            elif j >= 70:\n",
    "                kwargs[i] = \"B\"\n",
    "            elif j >= 60:\n",
    "                kwargs[i] = \"C\"\n",
    "            elif j >= 50:\n",
    "                kwargs[i] = \"D\"\n",
    "            elif j >= 40:\n",
    "                kwargs[i] = \"E\"\n",
    "            else:\n",
    "                kwargs[i] = \"F\"\n",
    "    elif convert_to == \"gpa\":\n",
    "        for i, j in kwargs.items():\n",
    "            if j >= 85:\n",
    "                kwargs[i] = 4\n",
    "            elif j >= 70:\n",
    "                kwargs[i] = 3\n",
    "            elif j >= 60:\n",
    "                kwargs[i] = 2.5\n",
    "            elif j >= 50:\n",
    "                kwargs[i] = 2\n",
    "            elif j >= 40:\n",
    "                kwargs[i] = 1.5\n",
    "            else:\n",
    "                kwargs[i] = 1\n",
    "\n",
    "    return kwargs\n",
    "\n",
    "print(gradeConverter(convert_to=\"gpa\", Adam=62, Faiz=91))     \n",
    "print(gradeConverter(convert_to=\"letter_grade\", Albert=90, Dwi=82, Syahdan=58, Veronica=84))"
   ]
  },
  {
   "cell_type": "markdown",
   "metadata": {},
   "source": [
    "# Task 4 - Fibonacci Sequence"
   ]
  },
  {
   "cell_type": "code",
   "execution_count": 33,
   "metadata": {},
   "outputs": [
    {
     "name": "stdout",
     "output_type": "stream",
     "text": [
      "0\n",
      "3\n",
      "55\n"
     ]
    }
   ],
   "source": [
    "def fibonacciFunc(n):\n",
    "    fibVal = 0\n",
    "\n",
    "    nMin2 = 0\n",
    "    nMin1 = 1\n",
    "\n",
    "    for k in range(n - 1):\n",
    "        fibVal = nMin2 + nMin1\n",
    "        nMin2 = nMin1\n",
    "        nMin1 = fibVal\n",
    "        \n",
    "    print(fibVal)    \n",
    "\n",
    "fibonacciFunc(0)\n",
    "fibonacciFunc(4)\n",
    "fibonacciFunc(10)"
   ]
  }
 ],
 "metadata": {
  "kernelspec": {
   "display_name": "base",
   "language": "python",
   "name": "python3"
  },
  "language_info": {
   "codemirror_mode": {
    "name": "ipython",
    "version": 3
   },
   "file_extension": ".py",
   "mimetype": "text/x-python",
   "name": "python",
   "nbconvert_exporter": "python",
   "pygments_lexer": "ipython3",
   "version": "3.9.12"
  },
  "orig_nbformat": 4
 },
 "nbformat": 4,
 "nbformat_minor": 2
}
